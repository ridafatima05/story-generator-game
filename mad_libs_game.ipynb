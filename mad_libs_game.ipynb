{
  "nbformat": 4,
  "nbformat_minor": 0,
  "metadata": {
    "colab": {
      "provenance": [],
      "authorship_tag": "ABX9TyNiFMybRS9fw+VaSFTrS1eP",
      "include_colab_link": true
    },
    "kernelspec": {
      "name": "python3",
      "display_name": "Python 3"
    },
    "language_info": {
      "name": "python"
    }
  },
  "cells": [
    {
      "cell_type": "markdown",
      "metadata": {
        "id": "view-in-github",
        "colab_type": "text"
      },
      "source": [
        "<a href=\"https://colab.research.google.com/github/ridafatima05/story-generator-game/blob/main/mad_libs_game.ipynb\" target=\"_parent\"><img src=\"https://colab.research.google.com/assets/colab-badge.svg\" alt=\"Open In Colab\"/></a>"
      ]
    },
    {
      "cell_type": "markdown",
      "source": [
        "#**Story Generator**"
      ],
      "metadata": {
        "id": "QIOq7xQ6EDVs"
      }
    },
    {
      "cell_type": "code",
      "source": [
        "# Input prompts\n",
        "name = input(\"Enter your name? \")\n",
        "age = input(\"Enter your Age? \")\n",
        "field = input(\"Enter a field you decided to pursue? \")\n",
        "prog_language = input(\"Enter your favorite programming language (e.g., Python, JavaScript, TypeScript)? \")\n",
        "university = input(\"Which university or institute are you attending? \")\n",
        "self_learning = input(\"How many hours have you spent self-learning so far? \")\n",
        "gender = input(\"What is your gender (boy/girl)? \").lower()\n",
        "\n",
        "# Set pronouns based on gender\n",
        "if gender == \"girl\":\n",
        "    pronoun = \"her\"\n",
        "    possessive_pronoun = \"hers\"\n",
        "else:\n",
        "    pronoun = \"his\"\n",
        "    possessive_pronoun = \"his\"\n",
        "\n",
        "# Created story\n",
        "print(\"\\nHere's your personalized story based on the info you provided:\\n\")\n",
        "\n",
        "print(f\"Once upon a time, there was a {age}-year-old named {name}. {name} was feeling a bit lost and frustrated with {pronoun} career path. \"\n",
        "      f\"After some reflection, {name} decided it was time for a change and chose to dive into the world of {field}.\")\n",
        "\n",
        "print(f\"To make this dream come true, {name} started learning {prog_language}, {pronoun} favorite programming language. {name} enrolled at {university}, \"\n",
        "      f\"ready to take on new challenges. But it wasn't all smooth sailing! {name} spent {self_learning} hours outside of class, teaching {pronoun}self and honing {pronoun} skills in {prog_language}.\")\n",
        "\n",
        "print(f\"Despite the long hours and tough moments, {name} pushed through. Slowly but surely, {name} became a master of {prog_language}. \"\n",
        "      f\"Eventually, {pronoun} hard work paid off, and {name} landed {possessive_pronoun} dream job in {field}.\")\n",
        "\n",
        "print(f\"Now, {name} is thriving in {possessive_pronoun} career, motivating others to never stop learning and always keep pushing forward. And that's the end of this journey!\\n\")\n",
        "\n",
        "print(\"**Short Story By Rida Fatima**\")\n"
      ],
      "metadata": {
        "id": "YsIsw3gREHJ2"
      },
      "execution_count": null,
      "outputs": []
    }
  ]
}